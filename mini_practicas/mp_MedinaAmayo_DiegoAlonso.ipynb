{
 "cells": [
  {
   "cell_type": "markdown",
   "id": "64758af6",
   "metadata": {},
   "source": [
    "# Mini práctica  1."
   ]
  },
  {
   "cell_type": "markdown",
   "id": "8d70b53f",
   "metadata": {},
   "source": [
    "a) ¿Qué es una función integrada (en inglés son conocidas como built-in function)?\n",
    "Son las funciones que conforman al lenguaje sin la necesidad de importar nada, es decir, abriendo Python desde 0, son las funciones que podemos usar sin más"
   ]
  },
  {
   "cell_type": "code",
   "execution_count": 51,
   "id": "e4a98e1a",
   "metadata": {},
   "outputs": [],
   "source": [
    "dna = \"caacggcgggtccctcataggatgaataggtgaaactgtctgaatgcttaggaactggttatggttaccacttcatcaaatatcaattgaacgatacagc\""
   ]
  },
  {
   "cell_type": "code",
   "execution_count": 52,
   "id": "a873c6c2",
   "metadata": {},
   "outputs": [
    {
     "data": {
      "text/plain": [
       "'CAACGGCGGGTCCCTCATAGGATGAATAGGTGAAACTGTCTGAATGCTTAGGAACTGGTTATGGTTACCACTTCATCAAATATCAATTGAACGATACAGC'"
      ]
     },
     "execution_count": 52,
     "metadata": {},
     "output_type": "execute_result"
    }
   ],
   "source": [
    "dna.upper()\n"
   ]
  },
  {
   "cell_type": "markdown",
   "id": "11c06bc4",
   "metadata": {},
   "source": [
    "_upper()_ es una función que toma un string y la devuelve con todos sus elementos en mayúsculas "
   ]
  },
  {
   "cell_type": "code",
   "execution_count": 53,
   "id": "c20e46d8",
   "metadata": {},
   "outputs": [
    {
     "data": {
      "text/plain": [
       "15"
      ]
     },
     "execution_count": 53,
     "metadata": {},
     "output_type": "execute_result"
    }
   ],
   "source": [
    "dna.find(\"catag\")"
   ]
  },
  {
   "cell_type": "markdown",
   "id": "7b3abd68",
   "metadata": {},
   "source": [
    "_find([cadena])_ busca la primer coincidencia de nuestra subcadena en la cadena y nos devuelve su índice"
   ]
  },
  {
   "cell_type": "code",
   "execution_count": 54,
   "id": "5a59ac03",
   "metadata": {},
   "outputs": [
    {
     "data": {
      "text/plain": [
       "31"
      ]
     },
     "execution_count": 54,
     "metadata": {},
     "output_type": "execute_result"
    }
   ],
   "source": [
    "dna.count(\"a\")"
   ]
  },
  {
   "cell_type": "markdown",
   "id": "a0c7431a",
   "metadata": {},
   "source": [
    "_count([cadena])_ nos devolvera un entero que significa el número de apariciones de la subcadena en la cadena, necesita un parámetro "
   ]
  },
  {
   "cell_type": "code",
   "execution_count": 55,
   "id": "6e3ea253",
   "metadata": {},
   "outputs": [
    {
     "data": {
      "text/plain": [
       "'caacxxcxxxtccctcataxxatxaataxxtxaaactxtctxaatxcttaxxaactxxttatxxttaccacttcatcaaatatcaattxaacxatacaxc'"
      ]
     },
     "execution_count": 55,
     "metadata": {},
     "output_type": "execute_result"
    }
   ],
   "source": [
    "dna.replace(\"g\", \"x\")"
   ]
  },
  {
   "cell_type": "markdown",
   "id": "ed7c5626",
   "metadata": {},
   "source": [
    "_replace([caracter 1], [caracter 2])_ nos devolvera la cadena con todas las coincidencias del caracter 1 sustituidas por el caracter 2"
   ]
  },
  {
   "cell_type": "code",
   "execution_count": 56,
   "id": "459b41dc",
   "metadata": {},
   "outputs": [],
   "source": [
    "# Variables\n",
    "x = 1234\n",
    "y = 5879\n",
    "z = 89\n",
    "\n",
    "mamifero1 = \"Ornitorrinco\"\n",
    "mamifero2 = \" Ornitorrinco\""
   ]
  },
  {
   "cell_type": "code",
   "execution_count": 57,
   "id": "fa052f31",
   "metadata": {},
   "outputs": [
    {
     "data": {
      "text/plain": [
       "False"
      ]
     },
     "execution_count": 57,
     "metadata": {},
     "output_type": "execute_result"
    }
   ],
   "source": [
    "# Expresion 1\n",
    "x > y "
   ]
  },
  {
   "cell_type": "markdown",
   "id": "5b7b6428",
   "metadata": {},
   "source": [
    "**¿Qué tipo de dato se está utilizando?**\n",
    "Enteros\n",
    "\n",
    "**¿Qué tipo de operador?**\n",
    "Matemático\n",
    "\n",
    "\n",
    "**Justifica el resultado que se obtenga de cada expresión**\n",
    "1234 no es mayor que 5879\n"
   ]
  },
  {
   "cell_type": "code",
   "execution_count": 58,
   "id": "3fe882ba",
   "metadata": {},
   "outputs": [
    {
     "data": {
      "text/plain": [
       "False"
      ]
     },
     "execution_count": 58,
     "metadata": {},
     "output_type": "execute_result"
    }
   ],
   "source": [
    "# Expresion 2\n",
    "mamifero1 == mamifero2\n"
   ]
  },
  {
   "cell_type": "markdown",
   "id": "94994363",
   "metadata": {},
   "source": [
    "**¿Qué tipo de dato se está utilizando?**\n",
    "Cadenas\n",
    "\n",
    "\n",
    "**¿Qué tipo de operador?**\n",
    "Lógico, igualdad de cadenas\n",
    "\n",
    "\n",
    "**Justifica el resultado que se obtenga de cada expresión**\n",
    "mamifero1 no es igual a mamifero2 porque tienen un espacio de diferencia\n"
   ]
  },
  {
   "cell_type": "code",
   "execution_count": 59,
   "id": "68efae06",
   "metadata": {},
   "outputs": [],
   "source": [
    "# Expresión 3\n",
    "x = y or y > z"
   ]
  },
  {
   "cell_type": "markdown",
   "id": "e8f4684c",
   "metadata": {},
   "source": [
    "**¿Qué tipo de dato se está utilizando?**\n",
    "Enteros y booleanos\n",
    "\n",
    "**¿Qué tipo de operador?**\n",
    "Matemático y booleano\n",
    "\n",
    "\n",
    "**Justifica el resultado que se obtenga de cada expresión**\n",
    "Si bien al correrlo no hace nada y no estoy seguro del porque, éste tipo de expresiones nos devolvera un valor booleano, ya que el operador principal es _or_ el cual es un operador booleano o lógico y compara dos enunciados que pueden ser _True_ o _False_\n"
   ]
  },
  {
   "cell_type": "code",
   "execution_count": 60,
   "id": "52a59a55",
   "metadata": {},
   "outputs": [
    {
     "data": {
      "text/plain": [
       "False"
      ]
     },
     "execution_count": 60,
     "metadata": {},
     "output_type": "execute_result"
    }
   ],
   "source": [
    "# Expresion 4\n",
    "y != x and y > z"
   ]
  },
  {
   "cell_type": "markdown",
   "id": "8e90d2ce",
   "metadata": {},
   "source": [
    "**¿Qué tipo de dato se está utilizando?**\n",
    "Enteros y booleanos\n",
    "\n",
    "**¿Qué tipo de operador?**\n",
    "Matemático y booleano\n",
    "\n",
    "\n",
    "**Justifica el resultado que se obtenga de cada expresión**\n",
    "Mismo caso que arriba, la operación principal es _and_ que compara dos enunciados y solo será verdadero cuando ambos sean verdaderos. En éste caso es false ya que _y != x_ es False\n"
   ]
  },
  {
   "cell_type": "code",
   "execution_count": 61,
   "id": "b885e86d",
   "metadata": {},
   "outputs": [
    {
     "data": {
      "text/plain": [
       "False"
      ]
     },
     "execution_count": 61,
     "metadata": {},
     "output_type": "execute_result"
    }
   ],
   "source": [
    "# Expresion 5\n",
    "# Tipo: Tal vez en este requieras hacer un poco de investigación\n",
    "not x"
   ]
  },
  {
   "cell_type": "markdown",
   "id": "e27a00eb",
   "metadata": {},
   "source": [
    "**¿Qué tipo de dato se está utilizando?**\n",
    "Enteros y booleanos\n",
    "\n",
    "**¿Qué tipo de operador?**\n",
    "Booleano\n",
    "\n",
    "\n",
    "**Justifica el resultado que se obtenga de cada expresión**\n",
    "Para python solo el 0 es False, cualquier otro valor positivo será entero, por lo que al hacer _not x_ estamos haciendo _not True_ lo que es _False_"
   ]
  }
 ],
 "metadata": {
  "kernelspec": {
   "display_name": "Python 3 (ipykernel)",
   "language": "python",
   "name": "python3"
  },
  "language_info": {
   "codemirror_mode": {
    "name": "ipython",
    "version": 3
   },
   "file_extension": ".py",
   "mimetype": "text/x-python",
   "name": "python",
   "nbconvert_exporter": "python",
   "pygments_lexer": "ipython3",
   "version": "3.8.10"
  }
 },
 "nbformat": 4,
 "nbformat_minor": 5
}
