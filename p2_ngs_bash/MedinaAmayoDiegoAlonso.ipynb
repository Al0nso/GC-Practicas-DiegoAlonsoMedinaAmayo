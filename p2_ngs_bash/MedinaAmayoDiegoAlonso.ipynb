{
 "cells": [
  {
   "cell_type": "code",
   "execution_count": 1,
   "id": "405d3dd5",
   "metadata": {},
   "outputs": [
    {
     "name": "stdout",
     "output_type": "stream",
     "text": [
      "Hola mundo\n"
     ]
    }
   ],
   "source": [
    "echo \"Hola mundo\""
   ]
  },
  {
   "cell_type": "markdown",
   "id": "1ea57f3c",
   "metadata": {},
   "source": [
    "# Comando para crear directorio"
   ]
  },
  {
   "cell_type": "code",
   "execution_count": null,
   "id": "341ce51f",
   "metadata": {},
   "outputs": [],
   "source": [
    "mkdir"
   ]
  },
  {
   "cell_type": "markdown",
   "id": "2e39a2c6",
   "metadata": {},
   "source": [
    "# Comando para ingresar a directorio"
   ]
  },
  {
   "cell_type": "code",
   "execution_count": null,
   "id": "0812d194",
   "metadata": {},
   "outputs": [],
   "source": [
    "cd "
   ]
  },
  {
   "cell_type": "markdown",
   "id": "b797cc12",
   "metadata": {},
   "source": [
    "# Comando para imprimir ruta"
   ]
  },
  {
   "cell_type": "code",
   "execution_count": 2,
   "id": "044aaa43",
   "metadata": {},
   "outputs": [
    {
     "name": "stdout",
     "output_type": "stream",
     "text": [
      "/home/al0nso/Documentos/Alonso/UNAM/Carrera/8vo_Semestre/GenomicaComputacional/Laboratorio/Practica03/src\n"
     ]
    }
   ],
   "source": [
    "pwd"
   ]
  },
  {
   "cell_type": "markdown",
   "id": "d3f24e23",
   "metadata": {},
   "source": []
  },
  {
   "cell_type": "markdown",
   "id": "9f58487c",
   "metadata": {},
   "source": [
    "# Comando para conocer shell"
   ]
  },
  {
   "cell_type": "code",
   "execution_count": 5,
   "id": "78da271d",
   "metadata": {},
   "outputs": [
    {
     "name": "stdout",
     "output_type": "stream",
     "text": [
      "/usr/bin/bash\n"
     ]
    }
   ],
   "source": [
    "echo $0"
   ]
  },
  {
   "cell_type": "markdown",
   "id": "2bb5674d",
   "metadata": {},
   "source": [
    "# Comando para crear directorios"
   ]
  },
  {
   "cell_type": "code",
   "execution_count": 19,
   "id": "7a573e2e",
   "metadata": {},
   "outputs": [
    {
     "name": "stdout",
     "output_type": "stream",
     "text": [
      "mkdir: no se puede crear el directorio «raw_data»: El archivo ya existe\n",
      "mkdir: no se puede crear el directorio «filtered»: El archivo ya existe\n",
      "mkdir: no se puede crear el directorio «meta»: El archivo ya existe\n",
      "mkdir: no se puede crear el directorio «scripts»: El archivo ya existe\n",
      "mkdir: no se puede crear el directorio «figures»: El archivo ya existe\n"
     ]
    },
    {
     "ename": "",
     "evalue": "1",
     "output_type": "error",
     "traceback": []
    }
   ],
   "source": [
    "mkdir data raw_data filtered meta scripts figures archive"
   ]
  },
  {
   "cell_type": "markdown",
   "id": "aa73760c",
   "metadata": {},
   "source": [
    "# Comando para mover raw_data y filtered"
   ]
  },
  {
   "cell_type": "code",
   "execution_count": 28,
   "id": "c79173e6",
   "metadata": {},
   "outputs": [
    {
     "name": "stdout",
     "output_type": "stream",
     "text": [
      "mv: no se puede efectuar `stat' sobre 'raw_data': No existe el archivo o el directorio\n",
      "mv: no se puede efectuar `stat' sobre 'filtered': No existe el archivo o el directorio\n"
     ]
    },
    {
     "ename": "",
     "evalue": "1",
     "output_type": "error",
     "traceback": []
    }
   ],
   "source": [
    "mv -t data raw_data filtered"
   ]
  },
  {
   "cell_type": "markdown",
   "id": "d089df37",
   "metadata": {},
   "source": [
    "# Parte II"
   ]
  },
  {
   "cell_type": "markdown",
   "id": "78174cb2",
   "metadata": {},
   "source": [
    "# Comando para crear directorio"
   ]
  },
  {
   "cell_type": "code",
   "execution_count": 2,
   "id": "44595ec8",
   "metadata": {},
   "outputs": [],
   "source": [
    "mkdir p2_DiegoAlonsoMedinaAmayo"
   ]
  },
  {
   "cell_type": "markdown",
   "id": "c13b30c9",
   "metadata": {},
   "source": [
    "## Justificación\n",
    "Elegí el VIH a raíz porque me parece que es un gran riego que no ha tenido suficiente atención. Inicialmente me interesó manejar la información de la Nerodia Rhombifer, ya que es la especie de mi culebra pero a falta de información de la misma, opte por usar un virus mucho más común e investigado"
   ]
  },
  {
   "cell_type": "markdown",
   "id": "1137bfad",
   "metadata": {},
   "source": [
    "## Publicación sobre su secuenciación\n",
    "Casadellà, M., & Paredes, R. (2017). Deep sequencing for HIV-1 clinical management. Virus research, 239, 69-81."
   ]
  },
  {
   "cell_type": "markdown",
   "id": "8f6ce098",
   "metadata": {},
   "source": [
    "## Plataforma de secuenciación"
   ]
  },
  {
   "cell_type": "markdown",
   "id": "78afa4d6",
   "metadata": {},
   "source": [
    "Tipo paired-end \n",
    "Se secuencian por ambos extremos los fragmentos de la librería al mismo tiempo. Esto permite generar datos se secuencias de alta calidad y precisión\n",
    "Es principalmente util para detectar variaciones estructurales"
   ]
  },
  {
   "cell_type": "markdown",
   "id": "65faec86",
   "metadata": {},
   "source": [
    "# Comando para mover archivos"
   ]
  },
  {
   "cell_type": "code",
   "execution_count": 17,
   "id": "e2292839",
   "metadata": {},
   "outputs": [
    {
     "name": "stdout",
     "output_type": "stream",
     "text": [
      "mv: no se puede efectuar `stat' sobre 'Human_immunodeficiency_virus1.fastaq': No existe el archivo o el directorio\n"
     ]
    },
    {
     "ename": "",
     "evalue": "1",
     "output_type": "error",
     "traceback": []
    }
   ],
   "source": [
    "mv -t data/raw_data Human_immunodeficiency_virus1.fasta Human_immunodeficiency_virus1.gb Human_immunodeficiency_virus1.gff3 Human_immunodeficiency_virus1.fastaq"
   ]
  },
  {
   "cell_type": "markdown",
   "id": "3043579b",
   "metadata": {},
   "source": [
    "# Comando para listado largo y legible para humanos"
   ]
  },
  {
   "cell_type": "code",
   "execution_count": 19,
   "id": "61f5f8a4",
   "metadata": {},
   "outputs": [
    {
     "name": "stdout",
     "output_type": "stream",
     "text": [
      "total 32K\n",
      "drwxrwxr-x 2 al0nso al0nso 4.0K may 10 15:01 \u001b[0m\u001b[01;34marchive\u001b[0m\n",
      "drwxrwxr-x 4 al0nso al0nso 4.0K may 10 15:02 \u001b[01;34mdata\u001b[0m\n",
      "drwxrwxr-x 2 al0nso al0nso 4.0K may 10 15:00 \u001b[01;34mfigures\u001b[0m\n",
      "-rw-rw-r-- 1 al0nso al0nso 6.5K may 13 23:43 MedinaAmayoDiegoAlonso.ipynb\n",
      "drwxrwxr-x 2 al0nso al0nso 4.0K may 10 15:00 \u001b[01;34mmeta\u001b[0m\n",
      "drwxrwxr-x 2 al0nso al0nso 4.0K may 13 23:22 \u001b[01;34mp2_DiegoAlonsoMedinaAmayo\u001b[0m\n",
      "drwxrwxr-x 2 al0nso al0nso 4.0K may 10 15:00 \u001b[01;34mscripts\u001b[0m\n"
     ]
    }
   ],
   "source": [
    "ls -lh"
   ]
  },
  {
   "cell_type": "markdown",
   "id": "d98ab3af",
   "metadata": {},
   "source": [
    "# Comando para copiar archivo gff"
   ]
  },
  {
   "cell_type": "code",
   "execution_count": 20,
   "id": "3b8702c1",
   "metadata": {},
   "outputs": [],
   "source": [
    "cp data/raw_data/Human_immunodeficiency_virus1.gff3 data/filtered"
   ]
  },
  {
   "cell_type": "markdown",
   "id": "1e03485e",
   "metadata": {},
   "source": [
    "# Comando para ver fastq"
   ]
  },
  {
   "cell_type": "code",
   "execution_count": 21,
   "id": "840861bc",
   "metadata": {},
   "outputs": [
    {
     "name": "stdout",
     "output_type": "stream",
     "text": [
      ">NC_001802.1 Human immunodeficiency virus 1, complete genome\n",
      "GGTCTCTCTGGTTAGACCAGATCTGAGCCTGGGAGCTCTCTGGCTAACTAGGGAACCCACTGCTTAAGCC\n",
      "TCAATAAAGCTTGCCTTGAGTGCTTCAAGTAGTGTGTGCCCGTCTGTTGTGTGACTCTGGTAACTAGAGA\n",
      "TCCCTCAGACCCTTTTAGTCAGTGTGGAAAATCTCTAGCAGTGGCGCCCGAACAGGGACCTGAAAGCGAA\n",
      "AGGGAAACCAGAGGAGCTCTCTCGACGCAGGACTCGGCTTGCTGAAGCGCGCACGGCAAGAGGCGAGGGG\n",
      "CGGCGACTGGTGAGTACGCCAAAAATTTTGACTAGCGGAGGCTAGAAGGAGAGAGATGGGTGCGAGAGCG\n",
      "TCAGTATTAAGCGGGGGAGAATTAGATCGATGGGAAAAAATTCGGTTAAGGCCAGGGGGAAAGAAAAAAT\n",
      "ATAAATTAAAACATATAGTATGGGCAAGCAGGGAGCTAGAACGATTCGCAGTTAATCCTGGCCTGTTAGA\n",
      "AACATCAGAAGGCTGTAGACAAATACTGGGACAGCTACAACCATCCCTTCAGACAGGATCAGAAGAACTT\n",
      "AGATCATTATATAATACAGTAGCAACCCTCTATTGTGTGCATCAAAGGATAGAGATAAAAGACACCAAGG\n",
      "AAGCTTTAGACAAGATAGAGGAAGAGCAAAACAAAAGTAAGAAAAAAGCACAGCAAGCAGCAGCTGACAC\n",
      "AGGACACAGCAATCAGGTCAGCCAAAATTACCCTATAGTGCAGAACATCCAGGGGCAAATGGTACATCAG\n"
     ]
    }
   ],
   "source": [
    "head -12 data/raw_data/Human_immunodeficiency_virus1.fastaq"
   ]
  },
  {
   "cell_type": "markdown",
   "id": "9428f58c",
   "metadata": {},
   "source": [
    "# Comando para ver fasta"
   ]
  },
  {
   "cell_type": "code",
   "execution_count": null,
   "id": "9acbe4d1",
   "metadata": {},
   "outputs": [],
   "source": [
    "head -12 data/raw_data/Human_immunodeficiency_virus1.fasta"
   ]
  },
  {
   "cell_type": "markdown",
   "id": "b8e4e574",
   "metadata": {},
   "source": [
    "# Comando para ver gff"
   ]
  },
  {
   "cell_type": "code",
   "execution_count": 25,
   "id": "f003ffa7",
   "metadata": {},
   "outputs": [
    {
     "name": "stdout",
     "output_type": "stream",
     "text": [
      "##sequence-region NC_001802.1 1 9181\n",
      "##species https://www.ncbi.nlm.nih.gov/Taxonomy/Browser/wwwtax.cgi?id=11676\n",
      "NC_001802.1\tRefSeq\tregion\t1\t9181\t.\t+\t.\tID=NC_001802.1:1..9181;Dbxref=taxon:11676;gb-acronym=HIV-1;gbkey=Src;genome=genomic;mol_type=genomic RNA;note=strain for reference annotation\n",
      "NC_001802.1\tRefSeq\tbiological_region\t1\t96\t.\t+\t.\tID=id-NC_001802.1:1..96;Name=R;Note=repeat%3B positions of RNA transcription initialization and polyadenylation;gbkey=Region\n",
      "NC_001802.1\tRefSeq\tpolyA_signal_sequence\t73\t78\t.\t+\t.\tID=id-NC_001802.1:73..78;Note=both 5' and 3' poly A signals are transcribed into RNA%2C but the 5' one is suppressed;gbkey=regulatory;regulatory_class=polyA_signal_sequence\n",
      "NC_001802.1\tRefSeq\tfive_prime_UTR\t97\t181\t.\t+\t.\tID=id-NC_001802.1:97..181;gbkey=5'UTR\n",
      "NC_001802.1\tRefSeq\tprimer_binding_site\t182\t199\t.\t+\t.\tID=id-NC_001802.1:182..199;gbkey=primer_bind\n",
      "NC_001802.1\tRefSeq\tgene\t336\t4642\t.\t+\t.\tID=gene-HIV1gp1;Dbxref=GeneID:155348;Name=gag-pol;gbkey=Gene;gene=gag-pol;gene_biotype=protein_coding;locus_tag=HIV1gp1\n",
      "NC_001802.1\tRefSeq\tCDS\t336\t1637\t.\t+\t0\tID=cds-NP_057849.4;Parent=gene-HIV1gp1;Dbxref=Genbank:NP_057849.4,GeneID:155348;Name=NP_057849.4;Note=Pr160;exception=ribosomal slippage;gbkey=CDS;gene=gag-pol;locus_tag=HIV1gp1;product=Gag-Pol;protein_id=NP_057849.4\n",
      "NC_001802.1\tRefSeq\tCDS\t1637\t4642\t.\t+\t0\tID=cds-NP_057849.4;Parent=gene-HIV1gp1;Dbxref=Genbank:NP_057849.4,GeneID:155348;Name=NP_057849.4;Note=Pr160;exception=ribosomal slippage;gbkey=CDS;gene=gag-pol;locus_tag=HIV1gp1;product=Gag-Pol;protein_id=NP_057849.4\n",
      "NC_001802.1\tRefSeq\tmature_protein_region_of_CDS\t1632\t1637\t.\t+\t.\tID=id-NP_057849.4:433..488;Note=the Glu-Asp-Leu tripeptide (positions 4-6) is a specific inhibitor of the HIV-1 protease. Involved in regulation of the protease-mediated polyprotein processing;Parent=cds-NP_057849.4;experiment=DESCRIPTION:[PMID:15527852];gbkey=Prot;product=Gag-Pol Transframe peptide;protein_id=NP_787043.1\n",
      "NC_001802.1\tRefSeq\tmature_protein_region_of_CDS\t1637\t1798\t.\t+\t.\tID=id-NP_057849.4:433..488;Note=the Glu-Asp-Leu tripeptide (positions 4-6) is a specific inhibitor of the HIV-1 protease. Involved in regulation of the protease-mediated polyprotein processing;Parent=cds-NP_057849.4;experiment=DESCRIPTION:[PMID:15527852];gbkey=Prot;product=Gag-Pol Transframe peptide;protein_id=NP_787043.1\n"
     ]
    }
   ],
   "source": [
    "head -12 data/raw_data/Human_immunodeficiency_virus1.gff3"
   ]
  },
  {
   "cell_type": "markdown",
   "id": "2321aeb0",
   "metadata": {},
   "source": [
    "# Comando para contar secuencias en fastq"
   ]
  },
  {
   "cell_type": "code",
   "execution_count": null,
   "id": "e07a5a2d",
   "metadata": {},
   "outputs": [],
   "source": [
    "wc -l src/data/raw_data/Human_immunodeficiency_virus1.fastaq\n",
    "grep -c \".*\" src/data/raw_data/Human_immunodeficiency_virus1.fastaq"
   ]
  },
  {
   "cell_type": "markdown",
   "id": "3f341104",
   "metadata": {},
   "source": [
    "# Comando para contar secuencias en fasta"
   ]
  },
  {
   "cell_type": "code",
   "execution_count": null,
   "id": "c58149ea",
   "metadata": {},
   "outputs": [],
   "source": [
    "wc -l src/data/raw_data/Human_immunodeficiency_virus1.fasta\n",
    "grep -c \".*\" src/data/raw_data/Human_immunodeficiency_virus1.fasta"
   ]
  },
  {
   "cell_type": "markdown",
   "id": "93230fa6",
   "metadata": {},
   "source": [
    "## Diferencia entre los formatos faa, fna, fastq, fasta y gff"
   ]
  },
  {
   "cell_type": "markdown",
   "id": "b80ddb15",
   "metadata": {},
   "source": [
    "Fasta es la extensión para archivos fasta, que son representaciones de la secuencias de nucleotidos o aminoácidos\n",
    "Los GFF son archivo delimitados por tabuladores hecho para describir genes\n",
    "Fastaq es una forma más extensa de Fasta que guarda la secuencia biologica y sus scores\n",
    "FNA es un fasta de DNA y secuencias de proteinas\n",
    "Y el FAA es un fasta basado en texto que representa o nucleotidos o aminoácidos que se muestran con un código de\n",
    "una sola letra"
   ]
  },
  {
   "cell_type": "markdown",
   "id": "4f0e1eda",
   "metadata": {},
   "source": [
    "# less archivo.gff3"
   ]
  },
  {
   "cell_type": "code",
   "execution_count": null,
   "id": "782b84d1",
   "metadata": {},
   "outputs": [],
   "source": [
    "less data/raw_data/Human_immunodeficiency_virus1.gff3\n"
   ]
  },
  {
   "cell_type": "markdown",
   "id": "d1fd1c33",
   "metadata": {},
   "source": [
    "# less -S archivo.gff3"
   ]
  },
  {
   "cell_type": "code",
   "execution_count": null,
   "id": "bb446c8a",
   "metadata": {},
   "outputs": [],
   "source": [
    "less -S data/raw_data/Human_immunodeficiency_virus1.gff3"
   ]
  },
  {
   "cell_type": "markdown",
   "id": "1123b868",
   "metadata": {},
   "source": [
    "-S corta las lineas largas"
   ]
  },
  {
   "cell_type": "code",
   "execution_count": 3,
   "id": "5d29c3fc",
   "metadata": {},
   "outputs": [],
   "source": [
    "cd data/filtered\n"
   ]
  },
  {
   "cell_type": "code",
   "execution_count": 4,
   "id": "8eb65edd",
   "metadata": {},
   "outputs": [
    {
     "name": "stdout",
     "output_type": "stream",
     "text": [
      "Human_immunodeficiency_virus1.gff3\n"
     ]
    }
   ],
   "source": [
    "ls"
   ]
  },
  {
   "cell_type": "markdown",
   "id": "df29d51d",
   "metadata": {},
   "source": [
    "# Comando para cambiar nombre de un archivo"
   ]
  },
  {
   "cell_type": "code",
   "execution_count": 5,
   "id": "25a4ab79",
   "metadata": {},
   "outputs": [],
   "source": [
    "cp Human_immunodeficiency_virus1.gff3 cp_Human_immunodeficiency_virus1.gff3"
   ]
  },
  {
   "cell_type": "code",
   "execution_count": 7,
   "id": "23eaa252",
   "metadata": {},
   "outputs": [
    {
     "name": "stdout",
     "output_type": "stream",
     "text": [
      "cp_Human_immunodeficiency_virus1.gff3  Human_immunodeficiency_virus1.gff3\n"
     ]
    }
   ],
   "source": [
    "ls"
   ]
  },
  {
   "cell_type": "code",
   "execution_count": 8,
   "id": "ee7e63b9",
   "metadata": {},
   "outputs": [],
   "source": [
    "mv Human_immunodeficiency_virus1.gff3 cp_Human_immunodeficiency_virus1.gff3\n"
   ]
  },
  {
   "cell_type": "markdown",
   "id": "1b669730",
   "metadata": {},
   "source": [
    "# Comando para concer cuántos genes hay"
   ]
  },
  {
   "cell_type": "code",
   "execution_count": 11,
   "id": "df0b0eeb",
   "metadata": {},
   "outputs": [
    {
     "name": "stdout",
     "output_type": "stream",
     "text": [
      "24\n"
     ]
    }
   ],
   "source": [
    "grep -c \"gene\" cp_Human_immunodeficiency_virus1.gff3"
   ]
  },
  {
   "cell_type": "markdown",
   "id": "a6320862",
   "metadata": {},
   "source": [
    "Son las poliproteinas el tercer campo"
   ]
  },
  {
   "cell_type": "markdown",
   "id": "a5e0530b",
   "metadata": {},
   "source": [
    "Palabra clave para denotar la secuencia de codificación de proteínas"
   ]
  },
  {
   "cell_type": "code",
   "execution_count": 22,
   "id": "4bf46434",
   "metadata": {},
   "outputs": [
    {
     "name": "stdout",
     "output_type": "stream",
     "text": [
      "NC_001802.1\tRefSeq\tgene\t336\t4642\t.\t+\t.\tID=gene-HIV1gp1;Dbxref=GeneID:155348;Name=gag-pol;gbkey=Gene;gene=gag-pol;gene_biotype=protein_coding;locus_tag=HIV1gp1\n",
      "NC_001802.1\tRefSeq\tCDS\t336\t1637\t.\t+\t0\tID=cds-NP_057849.4;Parent=gene-HIV1gp1;Dbxref=Genbank:NP_057849.4,GeneID:155348;Name=NP_057849.4;Note=Pr160;exception=ribosomal slippage;gbkey=CDS;gene=gag-pol;locus_tag=HIV1gp1;product=Gag-Pol;protein_id=NP_057849.4\n",
      "NC_001802.1\tRefSeq\tCDS\t1637\t4642\t.\t+\t0\tID=cds-NP_057849.4;Parent=gene-HIV1gp1;Dbxref=Genbank:NP_057849.4,GeneID:155348;Name=NP_057849.4;Note=Pr160;exception=ribosomal slippage;gbkey=CDS;gene=gag-pol;locus_tag=HIV1gp1;product=Gag-Pol;protein_id=NP_057849.4\n"
     ]
    }
   ],
   "source": [
    "cat cp_Human_immunodeficiency_virus1.gff3 | grep \"gene\" | head -3 |tail -n 3"
   ]
  },
  {
   "cell_type": "code",
   "execution_count": 23,
   "id": "8a1293ff",
   "metadata": {},
   "outputs": [],
   "source": [
    " cat cp_Human_immunodeficiency_virus1.gff3 | grep \"gene\" | head -3 |tail -n 3 >> barplot_data.txt"
   ]
  },
  {
   "cell_type": "code",
   "execution_count": null,
   "id": "ffda1cc6",
   "metadata": {},
   "outputs": [
    {
     "name": "stdout",
     "output_type": "stream",
     "text": [
      "\n",
      "No se ha encontrado la orden «import», pero se puede instalar con:\n",
      "\n",
      "sudo apt install graphicsmagick-imagemagick-compat  # version 1.4+really1.3.35-1, or\n",
      "sudo apt install imagemagick-6.q16                  # version 8:6.9.10.23+dfsg-2.1ubuntu11.4\n",
      "sudo apt install imagemagick-6.q16hdri              # version 8:6.9.10.23+dfsg-2.1ubuntu11.4\n",
      "\n",
      "\n",
      "No se ha encontrado la orden «import», pero se puede instalar con:\n",
      "\n",
      "sudo apt install graphicsmagick-imagemagick-compat  # version 1.4+really1.3.35-1, or\n",
      "sudo apt install imagemagick-6.q16                  # version 8:6.9.10.23+dfsg-2.1ubuntu11.4\n",
      "sudo apt install imagemagick-6.q16hdri              # version 8:6.9.10.23+dfsg-2.1ubuntu11.4\n",
      "\n",
      "from: can't read /var/mail/textwrap\n",
      "frecuencias: no se encontró la orden\n",
      "categorias: no se encontró la orden\n",
      "bash: error sintáctico cerca del elemento inesperado `('\n",
      "bash: error sintáctico cerca del elemento inesperado `('\n",
      "bash: error sintáctico cerca del elemento inesperado `y_pos,'\n",
      "bash: error sintáctico cerca del elemento inesperado `y_pos,'\n"
     ]
    }
   ],
   "source": [
    "\n",
    "import numpy as np\n",
    "import matplotlib.pyplot as plt\n",
    "from textwrap import wrap\n",
    "\n",
    "# Crea el dataset con tus datos obtenidos en barplot_data.txt\n",
    "frecuencias = [3, 12, 5, 18, 45]\n",
    "# Cambia el nombre de las categorías por las que obtuviste no lo dejes como \"Categoría A\", etc.\n",
    "categorias = ['Categoría A', 'Categoría B', 'Categoría C', 'Categoría D', 'Categoría E']\n",
    "categorias = [ ''.join(wrap(l, 11)) for l in categorias]\n",
    "\n",
    "y_pos = np.arange(len(categorias))\n",
    "\n",
    "# Gráfico de barras\n",
    "plt.bar(y_pos, frecuencias)\n",
    "\n",
    "# Nombres en el eje-x\n",
    "plt.xticks(y_pos, categorias)\n",
    "\n",
    "# Mostrar la gráfica\n",
    "plt.show()"
   ]
  },
  {
   "cell_type": "code",
   "execution_count": null,
   "id": "972a2f19",
   "metadata": {},
   "outputs": [],
   "source": []
  }
 ],
 "metadata": {
  "kernelspec": {
   "display_name": "Bash",
   "language": "bash",
   "name": "bash"
  },
  "language_info": {
   "codemirror_mode": "shell",
   "file_extension": ".sh",
   "mimetype": "text/x-sh",
   "name": "bash"
  }
 },
 "nbformat": 4,
 "nbformat_minor": 5
}
