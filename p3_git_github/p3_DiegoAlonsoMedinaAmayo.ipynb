{
 "cells": [
  {
   "cell_type": "markdown",
   "id": "632abcd9",
   "metadata": {},
   "source": [
    "# Versión del git"
   ]
  },
  {
   "cell_type": "code",
   "execution_count": 1,
   "id": "846631c1",
   "metadata": {},
   "outputs": [
    {
     "name": "stdout",
     "output_type": "stream",
     "text": [
      "git version 2.25.1\n"
     ]
    }
   ],
   "source": [
    "git --version"
   ]
  },
  {
   "cell_type": "markdown",
   "id": "e11eaaf3",
   "metadata": {},
   "source": [
    "# Salimos a la carpeta de prácticas"
   ]
  },
  {
   "cell_type": "code",
   "execution_count": 11,
   "id": "64a7a175",
   "metadata": {},
   "outputs": [],
   "source": [
    "cd .."
   ]
  },
  {
   "cell_type": "code",
   "execution_count": 12,
   "id": "ab7a0f01",
   "metadata": {},
   "outputs": [
    {
     "name": "stdout",
     "output_type": "stream",
     "text": [
      "\u001b[0m\u001b[01;34mmini_practicas\u001b[0m  \u001b[01;34mp1_dogma_central\u001b[0m  \u001b[01;34mp2_ngs_bash\u001b[0m  \u001b[01;34mp3_git_github\u001b[0m\n"
     ]
    }
   ],
   "source": [
    "ls"
   ]
  },
  {
   "cell_type": "code",
   "execution_count": 13,
   "id": "9fc06407",
   "metadata": {},
   "outputs": [
    {
     "name": "stdout",
     "output_type": "stream",
     "text": [
      "Inicializado repositorio Git vacío en /home/al0nso/Documentos/Alonso/UNAM/Carrera/8vo_Semestre/GenomicaComputacional/Laboratorio/practicas_genomica_computacional/.git/\n"
     ]
    }
   ],
   "source": [
    "git init"
   ]
  },
  {
   "cell_type": "markdown",
   "id": "f5b6aefc",
   "metadata": {},
   "source": [
    "# Agregamos el contenido"
   ]
  },
  {
   "cell_type": "code",
   "execution_count": 14,
   "id": "03adfd27",
   "metadata": {},
   "outputs": [],
   "source": [
    "git add ."
   ]
  },
  {
   "cell_type": "markdown",
   "id": "60042e6d",
   "metadata": {},
   "source": [
    "# Hacemos el commit"
   ]
  },
  {
   "cell_type": "code",
   "execution_count": 17,
   "id": "9fcdf73f",
   "metadata": {},
   "outputs": [
    {
     "name": "stdout",
     "output_type": "stream",
     "text": [
      "[master (commit-raíz) a123c9b] Prácticas de Genomica Computacional\n",
      " 5 files changed, 1362 insertions(+)\n",
      " create mode 100644 mini_practicas/mp_MedinaAmayo_DiegoAlonso.ipynb\n",
      " create mode 100644 p1_dogma_central/p2_MedinaAmayoDiegoAlonso.py\n",
      " create mode 100644 p2_ngs_bash/MedinaAmayoDiegoAlonso.ipynb\n",
      " create mode 100644 p3_git_github/.ipynb_checkpoints/p3_github_bash-checkpoint.ipynb\n",
      " create mode 100644 p3_git_github/p3_github_bash.ipynb\n"
     ]
    }
   ],
   "source": [
    "git commit -m 'Prácticas de Genomica Computacional'"
   ]
  },
  {
   "cell_type": "markdown",
   "id": "4715b929",
   "metadata": {},
   "source": [
    "# Agregamos el README de la p1"
   ]
  },
  {
   "cell_type": "code",
   "execution_count": 19,
   "id": "148f183a",
   "metadata": {},
   "outputs": [],
   "source": [
    "git add p1_dogma_central/README.md"
   ]
  },
  {
   "cell_type": "markdown",
   "id": "cc82dd6a",
   "metadata": {},
   "source": [
    "# Hacemos el commit"
   ]
  },
  {
   "cell_type": "code",
   "execution_count": 20,
   "id": "aa8b4ffe",
   "metadata": {},
   "outputs": [
    {
     "name": "stdout",
     "output_type": "stream",
     "text": [
      "[master bf78c32] Descripcion de programa.\n",
      " 1 file changed, 39 insertions(+)\n",
      " create mode 100644 p1_dogma_central/README.md\n"
     ]
    }
   ],
   "source": [
    "git commit -m \"Descripcion de programa.\""
   ]
  },
  {
   "cell_type": "markdown",
   "id": "99c1169b",
   "metadata": {},
   "source": [
    "# Confirmaciones hechas"
   ]
  },
  {
   "cell_type": "code",
   "execution_count": 22,
   "id": "cbe52b95",
   "metadata": {},
   "outputs": [
    {
     "name": "stdout",
     "output_type": "stream",
     "text": [
      "\u001b[33mcommit bf78c322638dd9dbeae69b105a899a2904411e4b\u001b[m\u001b[33m (\u001b[m\u001b[1;36mHEAD -> \u001b[m\u001b[1;32mmaster\u001b[m\u001b[33m)\u001b[m\n",
      "Author: Al0nso <chego006@hotmail.com>\n",
      "Date:   Fri May 20 23:37:35 2022 -0500\n",
      "\n",
      "    Descripcion de programa.\n",
      "\n",
      "\u001b[33mcommit a123c9bb153820e38bbe23a2c9efa10c3195dc79\u001b[m\n",
      "Author: Al0nso <chego006@hotmail.com>\n",
      "Date:   Fri May 20 23:25:43 2022 -0500\n",
      "\n",
      "    Prácticas de Genomica Computacional\n"
     ]
    }
   ],
   "source": [
    "git log"
   ]
  },
  {
   "cell_type": "markdown",
   "id": "6f6edba3",
   "metadata": {},
   "source": [
    "# Verificar rama actual"
   ]
  },
  {
   "cell_type": "code",
   "execution_count": 23,
   "id": "f4aa2253",
   "metadata": {},
   "outputs": [
    {
     "name": "stdout",
     "output_type": "stream",
     "text": [
      "En la rama master\n",
      "Cambios no rastreados para el commit:\n",
      "  (usa \"git add <archivo>...\" para actualizar lo que será confirmado)\n",
      "  (usa \"git restore <archivo>...\" para descartar los cambios en el directorio de trabajo)\n",
      "\t\u001b[31mmodificados:     p3_git_github/p3_github_bash.ipynb\u001b[m\n",
      "\n",
      "sin cambios agregados al commit (usa \"git add\" y/o \"git commit -a\")\n"
     ]
    }
   ],
   "source": [
    "git status"
   ]
  },
  {
   "cell_type": "markdown",
   "id": "ee80727b",
   "metadata": {},
   "source": [
    "# Conectamos con el repositorio remoto"
   ]
  },
  {
   "cell_type": "code",
   "execution_count": 25,
   "id": "2c5ce6ab",
   "metadata": {},
   "outputs": [],
   "source": [
    "git remote add origin https://github.com/Al0nso/GC-Practicas-DiegoAlonsoMedinaAmayo.git"
   ]
  },
  {
   "cell_type": "markdown",
   "id": "0610ad4b",
   "metadata": {},
   "source": [
    "# Hacemos Push"
   ]
  },
  {
   "cell_type": "code",
   "execution_count": 27,
   "id": "c3b3d9ee",
   "metadata": {},
   "outputs": [
    {
     "name": "stdout",
     "output_type": "stream",
     "text": [
      "fatal: La rama actual master no tiene una rama upstream.\n",
      "Para realizar un push de la rama actual y configurar el remoto como upstream, usa\n",
      "\n",
      "\tgit push --set-upstream origin master\n",
      "\n"
     ]
    },
    {
     "ename": "",
     "evalue": "128",
     "output_type": "error",
     "traceback": []
    }
   ],
   "source": [
    "git push --set-upstream origin master"
   ]
  },
  {
   "cell_type": "markdown",
   "id": "d4cde30e",
   "metadata": {},
   "source": [
    "# Bajamos el README"
   ]
  },
  {
   "cell_type": "code",
   "execution_count": 29,
   "id": "1ae61f1e",
   "metadata": {},
   "outputs": [
    {
     "name": "stdout",
     "output_type": "stream",
     "text": [
      "remote: Enumerating objects: 4, done.\u001b[K\n",
      "remote: Counting objects: 100% (4/4), done.\u001b[K\n",
      "remote: Compressing objects: 100% (3/3), done.\u001b[K\n",
      "remote: Total 3 (delta 1), reused 0 (delta 0), pack-reused 0\u001b[K\n",
      "Desempaquetando objetos: 100% (3/3), 858 bytes | 429.00 KiB/s, listo.\n",
      "Desde https://github.com/Al0nso/GC-Practicas-DiegoAlonsoMedinaAmayo\n",
      "   bf78c32..9e378a1  master     -> origin/master\n",
      "Actualizando bf78c32..9e378a1\n",
      "Fast-forward\n",
      " README.md | 9 \u001b[32m+++++++++\u001b[m\n",
      " 1 file changed, 9 insertions(+)\n",
      " create mode 100644 README.md\n"
     ]
    }
   ],
   "source": [
    "git pull"
   ]
  },
  {
   "cell_type": "code",
   "execution_count": null,
   "id": "a9929916",
   "metadata": {},
   "outputs": [],
   "source": []
  }
 ],
 "metadata": {
  "kernelspec": {
   "display_name": "Bash",
   "language": "bash",
   "name": "bash"
  },
  "language_info": {
   "codemirror_mode": "shell",
   "file_extension": ".sh",
   "mimetype": "text/x-sh",
   "name": "bash"
  }
 },
 "nbformat": 4,
 "nbformat_minor": 5
}
