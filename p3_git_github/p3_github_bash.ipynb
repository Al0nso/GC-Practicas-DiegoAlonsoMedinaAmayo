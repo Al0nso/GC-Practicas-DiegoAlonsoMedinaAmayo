{
 "cells": [
  {
   "cell_type": "markdown",
   "id": "fe0f4e31",
   "metadata": {},
   "source": [
    "# Versión del git"
   ]
  },
  {
   "cell_type": "code",
   "execution_count": 1,
   "id": "f8ea83e9",
   "metadata": {},
   "outputs": [
    {
     "name": "stdout",
     "output_type": "stream",
     "text": [
      "git version 2.25.1\n"
     ]
    }
   ],
   "source": [
    "git --version"
   ]
  },
  {
   "cell_type": "markdown",
   "id": "c0bcfb4b",
   "metadata": {},
   "source": [
    "# Salimos a la carpeta de prácticas"
   ]
  },
  {
   "cell_type": "code",
   "execution_count": 11,
   "id": "0cac5026",
   "metadata": {},
   "outputs": [],
   "source": [
    "cd .."
   ]
  },
  {
   "cell_type": "code",
   "execution_count": 12,
   "id": "af3be862",
   "metadata": {},
   "outputs": [
    {
     "name": "stdout",
     "output_type": "stream",
     "text": [
      "\u001b[0m\u001b[01;34mmini_practicas\u001b[0m  \u001b[01;34mp1_dogma_central\u001b[0m  \u001b[01;34mp2_ngs_bash\u001b[0m  \u001b[01;34mp3_git_github\u001b[0m\n"
     ]
    }
   ],
   "source": [
    "ls"
   ]
  },
  {
   "cell_type": "code",
   "execution_count": 13,
   "id": "5b4ec4dc",
   "metadata": {},
   "outputs": [
    {
     "name": "stdout",
     "output_type": "stream",
     "text": [
      "Inicializado repositorio Git vacío en /home/al0nso/Documentos/Alonso/UNAM/Carrera/8vo_Semestre/GenomicaComputacional/Laboratorio/practicas_genomica_computacional/.git/\n"
     ]
    }
   ],
   "source": [
    "git init"
   ]
  },
  {
   "cell_type": "code",
   "execution_count": null,
   "id": "761bf6b9",
   "metadata": {},
   "outputs": [],
   "source": []
  }
 ],
 "metadata": {
  "kernelspec": {
   "display_name": "Bash",
   "language": "bash",
   "name": "bash"
  },
  "language_info": {
   "codemirror_mode": "shell",
   "file_extension": ".sh",
   "mimetype": "text/x-sh",
   "name": "bash"
  }
 },
 "nbformat": 4,
 "nbformat_minor": 5
}
